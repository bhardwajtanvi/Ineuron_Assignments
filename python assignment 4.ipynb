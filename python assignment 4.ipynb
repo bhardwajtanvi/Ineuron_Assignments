{
 "cells": [
  {
   "cell_type": "markdown",
   "metadata": {},
   "source": [
    "# Assignment 4"
   ]
  },
  {
   "cell_type": "markdown",
   "metadata": {},
   "source": [
    "#### Q1. Write a Python Program(with class concepts) to find the area of the triangle using the below formula.\n",
    "#### area = (s\\*(s-a)\\*(s-b)\\*(s-c)) \\** 0.5\n",
    "#### Function to take the length of the sides of triangle from user should be defined in the parent class and function to calculate the area should be defined in subclass."
   ]
  },
  {
   "cell_type": "code",
   "execution_count": 1,
   "metadata": {},
   "outputs": [
    {
     "name": "stdout",
     "output_type": "stream",
     "text": [
      "Calculate area for triangle.\n",
      "Enter a: 2\n",
      "Enter b: 3\n",
      "Enter c: 4\n",
      "Area of traingle is:  2.9047375096555625\n"
     ]
    }
   ],
   "source": [
    "class User:\n",
    "    def __init__(self):\n",
    "        print(\"Calculate area for triangle.\")\n",
    "        self.a = int(input(\"Enter a: \"))\n",
    "        self.b = int(input(\"Enter b: \"))\n",
    "        self.c = int(input(\"Enter c: \"))\n",
    "\n",
    "class Area(User):\n",
    "    def area(self):\n",
    "        a=self.a\n",
    "        b=self.b \n",
    "        c=self.c\n",
    "        s = (a+b+c)/2\n",
    "        area = (s*(s-a)*(s-b)*(s-c)) ** 0.5\n",
    "        print(\"Area of traingle is: \",area)\n",
    "\n",
    "a = Area()\n",
    "a.area()"
   ]
  },
  {
   "cell_type": "markdown",
   "metadata": {},
   "source": [
    "#### Q2. Write a function filter_long_words() that takes a list of words and an integer n and returns the list of words that are longer than n."
   ]
  },
  {
   "cell_type": "code",
   "execution_count": 2,
   "metadata": {},
   "outputs": [
    {
     "name": "stdout",
     "output_type": "stream",
     "text": [
      "Enter length of string you want to comapre longer than : 3\n",
      "Enter number for list elements: 5\n",
      "Input for list at 0 cup\n",
      "Input for list at 1 boat\n",
      "Input for list at 2 mat\n",
      "Input for list at 3 sit\n",
      "Input for list at 4 tanvi\n",
      "Returned_list is: ['boat', 'tanvi'] \n"
     ]
    }
   ],
   "source": [
    "n = int(input(\"Enter length of string you want to comapre longer than : \"))\n",
    "lst=[]\n",
    "m=int(input(\"Enter number for list elements: \"))\n",
    "for i in range(0,m):\n",
    "    ele = input(\"Input for list at %s \"%i) \n",
    "    lst.append(ele)\n",
    "def filter_long_words(lst,n):\n",
    "    return_list=[]\n",
    "    for i in lst:\n",
    "        if len(i)>n:\n",
    "            return_list.append(i)\n",
    "    print(\"Returned_list is: %s \"%return_list)\n",
    "filter_long_words(lst,n)"
   ]
  },
  {
   "cell_type": "markdown",
   "metadata": {},
   "source": [
    "#### Q3. Write a Python program using function concept that maps list of words into a list of integers representing the lengths of the corresponding words."
   ]
  },
  {
   "cell_type": "markdown",
   "metadata": {},
   "source": [
    "**Hint:** If a list [ ab,cde,erty] is passed on to the python function output should come as [2,3,4]\n",
    "Here 2,3 and 4 are the lengths of the words in the list."
   ]
  },
  {
   "cell_type": "code",
   "execution_count": 3,
   "metadata": {},
   "outputs": [
    {
     "name": "stdout",
     "output_type": "stream",
     "text": [
      "Enter number of elements of list: 3\n",
      "Enter element at 0 position: tanvi\n",
      "Enter element at 1 position: bhardwaj\n",
      "Enter element at 2 position: ineuron\n",
      "Length for list is :  [5, 8, 7]\n"
     ]
    }
   ],
   "source": [
    "lst_3=[]\n",
    "n=int(input(\"Enter number of elements of list: \"))\n",
    "for i in range(0,n):\n",
    "    ele=input(\"Enter element at %s position: \"%i)\n",
    "    lst_3.append(ele)\n",
    "def word_length(lst_3):\n",
    "    return len(lst_3)\n",
    "map_fun = map(word_length,lst_3)\n",
    "print(\"Length for list is : \",list(map_fun))"
   ]
  },
  {
   "cell_type": "markdown",
   "metadata": {},
   "source": [
    "#### Q4. Write a Python function which takes a character (i.e. a string of length 1) and returns True if it is a vowel, False otherwise."
   ]
  },
  {
   "cell_type": "code",
   "execution_count": 4,
   "metadata": {},
   "outputs": [
    {
     "name": "stdout",
     "output_type": "stream",
     "text": [
      "Enter input : t\n",
      "False\n",
      "Enter input : a\n",
      "True\n",
      "Enter input : n\n",
      "False\n",
      "Enter input : v\n",
      "False\n",
      "Enter input : i\n",
      "True\n",
      "Enter input : exit\n",
      "exited\n"
     ]
    }
   ],
   "source": [
    "vowels=['a','e','i','o','u']\n",
    "def strng_leng_1(c):\n",
    "    while True:\n",
    "        c=input(\"Enter input : \")\n",
    "        if len(c)==1:\n",
    "            if c in vowels:\n",
    "                print(True)\n",
    "                continue\n",
    "            else:\n",
    "                print(False)\n",
    "                continue\n",
    "        elif c == \"exit\":\n",
    "            print(\"exited\")\n",
    "            break\n",
    "        else:\n",
    "            print(\"Please enter string for length 1\")\n",
    "strng_leng_1(\"c\")"
   ]
  }
 ],
 "metadata": {
  "kernelspec": {
   "display_name": "Python 3",
   "language": "python",
   "name": "python3"
  },
  "language_info": {
   "codemirror_mode": {
    "name": "ipython",
    "version": 3
   },
   "file_extension": ".py",
   "mimetype": "text/x-python",
   "name": "python",
   "nbconvert_exporter": "python",
   "pygments_lexer": "ipython3",
   "version": "3.7.7"
  }
 },
 "nbformat": 4,
 "nbformat_minor": 4
}
