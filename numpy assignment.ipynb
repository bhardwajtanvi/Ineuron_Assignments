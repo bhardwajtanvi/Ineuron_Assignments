{
 "cells": [
  {
   "cell_type": "markdown",
   "metadata": {},
   "source": [
    "# Assignment 7"
   ]
  },
  {
   "cell_type": "markdown",
   "metadata": {},
   "source": [
    "### Q1. Write a function so that the columns of the output matrix are powers of the input vector.\n",
    "\n",
    "\n",
    "**The order of the powers is determined by the increasing boolean argument. Specifically, when\n",
    "increasing is False, the i-th output column is the input vector raised element-wise to the power\n",
    "of N - i - 1.**\n",
    "\n",
    "**HINT: Such a matrix with a geometric progression in each row is named for Alexandre-\n",
    "Theophile Vandermonde.**"
   ]
  },
  {
   "cell_type": "code",
   "execution_count": 1,
   "metadata": {},
   "outputs": [],
   "source": [
    "import numpy as np"
   ]
  },
  {
   "cell_type": "code",
   "execution_count": 2,
   "metadata": {},
   "outputs": [
    {
     "name": "stdout",
     "output_type": "stream",
     "text": [
      "Enter number of columns for Alexandre-Theopile Vandermonde matrix: 6\n",
      "Enter True or False :False\n"
     ]
    },
    {
     "data": {
      "text/plain": [
       "matrix([[   1,    1,    1,    1,    1,    1],\n",
       "        [  32,   16,    8,    4,    2,    1],\n",
       "        [ 243,   81,   27,    9,    3,    1],\n",
       "        [1024,  256,   64,   16,    4,    1],\n",
       "        [3125,  625,  125,   25,    5,    1],\n",
       "        [7776, 1296,  216,   36,    6,    1]])"
      ]
     },
     "execution_count": 2,
     "metadata": {},
     "output_type": "execute_result"
    }
   ],
   "source": [
    "# taking input for number of columns\n",
    "\n",
    "N = int(input(\"Enter number of columns for Alexandre-Theopile Vandermonde matrix: \"))\n",
    "\n",
    "x=[1,2,3,4,5,6]   #creating input vector\n",
    "\n",
    "increasing = input(\"Enter True or False :\") #increasing factor \n",
    "\n",
    "def vanderfun(x,N,increasing):  #alexandre-theophile vandermonde\n",
    "    \n",
    "    #creating two empty lists\n",
    "    \n",
    "    y=[] \n",
    "    z=[]\n",
    "\n",
    "    if increasing==\"False\":  #if false will print in right to left....\n",
    "        \n",
    "        #print(\"increasing is \",increasing)\n",
    "\n",
    "        for i in x:\n",
    "            for j in range(N):\n",
    "                y.append(i**(N-j-1))\n",
    "            z.append(y)\n",
    "            y=[]\n",
    "            \n",
    "    else :   #if true will print in left to right.... \n",
    "        \n",
    "        #print(\"increasing is \",increasing)\n",
    "\n",
    "        for i in x:\n",
    "            for j in range(N):\n",
    "                y.append(i**j)\n",
    "            z.append(y)\n",
    "            y=[]\n",
    "            \n",
    "    z = np.matrix(z).reshape(len(x),N) #list to array conversion\n",
    "    \n",
    "    return z\n",
    "\n",
    "vanderfun(x,N,increasing) # function calling\n"
   ]
  },
  {
   "cell_type": "code",
   "execution_count": 3,
   "metadata": {},
   "outputs": [
    {
     "name": "stdout",
     "output_type": "stream",
     "text": [
      "Enter number of columns for Alexandre-Theopile Vandermonde matrix: 6\n",
      "Enter True or False :True\n"
     ]
    },
    {
     "data": {
      "text/plain": [
       "matrix([[   1,    1,    1,    1,    1,    1],\n",
       "        [   1,    2,    4,    8,   16,   32],\n",
       "        [   1,    3,    9,   27,   81,  243],\n",
       "        [   1,    4,   16,   64,  256, 1024],\n",
       "        [   1,    5,   25,  125,  625, 3125],\n",
       "        [   1,    6,   36,  216, 1296, 7776]])"
      ]
     },
     "execution_count": 3,
     "metadata": {},
     "output_type": "execute_result"
    }
   ],
   "source": [
    "#this is second time for true case ..\n",
    "\n",
    "N = int(input(\"Enter number of columns for Alexandre-Theopile Vandermonde matrix: \"))\n",
    "\n",
    "x=[1,2,3,4,5,6]\n",
    "\n",
    "increasing = input(\"Enter True or False :\")\n",
    "\n",
    "vanderfun(x,N,increasing)"
   ]
  },
  {
   "cell_type": "markdown",
   "metadata": {},
   "source": [
    "### Q2. Write a function to find moving average in an array over a window: Test it over [3, 5, 7, 2, 8, 10, 11, 65, 72, 81, 99, 100, 150] and window of 3. \n",
    "**Given a sequence of n values x1, x2, ..., xn and a window size k>0, the k-th moving average of the given sequence is defined as follows:**\n",
    "\n",
    "**The moving average sequence has n-k+1 elements as shown below.**\n",
    "\n",
    "**The moving averages with k=4 of a ten-value sequence (n=10) is shown below**\n",
    "\n",
    "\n",
    "    i 1 2 3 4 5 6 7 8 9 10\n",
    "    ===== == == == == == == == == == ==\n",
    "    Input 10 20 30 40 50 60 70 80 90 100\n",
    "    y1 25 = (10+20+30+40)/4\n",
    "    y2 35 = (20+30+40+50)/4\n",
    "    y3 45 = (30+40+50+60)/4\n",
    "    y4 55 = (40+50+60+70)/4\n",
    "    y5 65 = (50+60+70+80)/4\n",
    "    y6 75 = (60+70+80+90)/4\n",
    "    y7 85 = (70+80+90+100)/4\n",
    "\n",
    "**Thus, the moving average sequence has n-k+1=10-4+1=7 values.**\n"
   ]
  },
  {
   "cell_type": "code",
   "execution_count": 4,
   "metadata": {},
   "outputs": [
    {
     "name": "stdout",
     "output_type": "stream",
     "text": [
      "moving average sequence has 11 values\n",
      "y1= 5.0\n",
      "y2= 4.67\n",
      "y3= 5.67\n",
      "y4= 6.67\n",
      "y5= 9.67\n",
      "y6= 28.67\n",
      "y7= 49.33\n",
      "y8= 72.67\n",
      "y9= 84.0\n",
      "y10= 93.33\n",
      "y11= 116.33\n"
     ]
    }
   ],
   "source": [
    "# input array\n",
    "value = [3, 5, 7, 2, 8, 10, 11, 65, 72, 81, 99, 100, 150]\n",
    "\n",
    "#window\n",
    "k=3\n",
    "\n",
    "def movingfun(k,value):\n",
    "    sequence = len(value) - k + 1\n",
    "    print(\"moving average sequence has %d values\"%sequence)\n",
    "    output = np.convolve(value ,np.ones(k)/k , \"valid\")\n",
    "    count=1\n",
    "    for i in output:\n",
    "        output_seq = round(i,2)\n",
    "        print(\"y%d=\"%count,output_seq)\n",
    "        count = count +1\n",
    "\n",
    "#declaring fun\n",
    "movingfun(k,value)"
   ]
  }
 ],
 "metadata": {
  "kernelspec": {
   "display_name": "Python 3",
   "language": "python",
   "name": "python3"
  },
  "language_info": {
   "codemirror_mode": {
    "name": "ipython",
    "version": 3
   },
   "file_extension": ".py",
   "mimetype": "text/x-python",
   "name": "python",
   "nbconvert_exporter": "python",
   "pygments_lexer": "ipython3",
   "version": "3.7.6"
  }
 },
 "nbformat": 4,
 "nbformat_minor": 4
}
