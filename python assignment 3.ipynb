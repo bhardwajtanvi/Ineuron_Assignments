{
 "cells": [
  {
   "cell_type": "markdown",
   "metadata": {},
   "source": [
    "#                                           Assignment 3"
   ]
  },
  {
   "cell_type": "markdown",
   "metadata": {},
   "source": [
    "#### Q1. Write a Python Program to implement your own myreduce() function which works exactlylike Python's built-in function reduce()"
   ]
  },
  {
   "cell_type": "code",
   "execution_count": 1,
   "metadata": {},
   "outputs": [
    {
     "name": "stdout",
     "output_type": "stream",
     "text": [
      "Enter number for list elements: 5\n",
      "Input for list at 012\n",
      "Input for list at 115\n",
      "Input for list at 278\n",
      "Input for list at 389\n",
      "Input for list at 436\n",
      "Output for myreduce function 27\n",
      "Output for myreduce function 93\n",
      "Output for myreduce function 167\n",
      "Output for myreduce function 125\n"
     ]
    }
   ],
   "source": [
    "def add(a,b):\n",
    "    c=a+b\n",
    "    print(\"Output for myreduce function %d\"%c)\n",
    "def myreduce(add,lst):\n",
    "    for i in range(len(lst)-1):\n",
    "        d = add(lst[i],lst[i+1])\n",
    "\n",
    "lst=[]\n",
    "n=int(input(\"Enter number for list elements: \"))\n",
    "for i in range(0,n):\n",
    "    ele = int(input(\"Input for list at %d\"%i)) \n",
    "    lst.append(ele)\n",
    "myreduce(add,lst)"
   ]
  },
  {
   "cell_type": "markdown",
   "metadata": {},
   "source": [
    "#### Q2. Write a Python program to implement your own myfilter() function which works exactly\n",
    "like Python's built-in function filter()"
   ]
  },
  {
   "cell_type": "code",
   "execution_count": 2,
   "metadata": {},
   "outputs": [
    {
     "name": "stdout",
     "output_type": "stream",
     "text": [
      "size of list: 5\n",
      "Enter list element 0 78\n",
      "Enter list element 1 90\n",
      "Enter list element 2 26\n",
      "Enter list element 3 34\n",
      "Enter list element 4 555\n",
      "output for myfilter function: [78, 90, 26, 34]\n"
     ]
    }
   ],
   "source": [
    "t=[]\n",
    "n=int(input(\"size of list: \"))\n",
    "for i in range(0,n):\n",
    "    a=int(input(\"Enter list element %d \"%i))\n",
    "    t.append(a)\n",
    "def even_odd(e):\n",
    "    if e%2==0:\n",
    "        return True\n",
    "    else:\n",
    "        return False\n",
    "def myfilter(even_odd,t):\n",
    "    v=[]\n",
    "    for i in t:\n",
    "        if even_odd(i):\n",
    "            v.append(i)\n",
    "    print(\"output for myfilter function: %s\"%v)\n",
    "myfilter(even_odd,t)"
   ]
  },
  {
   "cell_type": "markdown",
   "metadata": {},
   "source": [
    "#### Q3. Implement List comprehensions to produce the following lists. Write List comprehensions to produce the following Lists.\n",
    "\n",
    "['x', 'xx', 'xxx', 'xxxx', 'y', 'yy', 'yyy', 'yyyy', 'z', 'zz', 'zzz', 'zzzz']\n",
    "\n",
    "['x', 'y', 'z', 'xx', 'yy', 'zz', 'xxx', 'yyy', 'zzz', 'xxxx', 'yyyy', 'zzzz']\n",
    "\n",
    "[[2], [3], [4], [3], [4], [5], [4], [5], [6]] \n",
    "\n",
    "[[2, 3, 4, 5], [3, 4, 5, 6],[4, 5, 6, 7], [5, 6, 7, 8]]\n",
    "\n",
    "[(1, 1), (2, 1), (3, 1), (1, 2), (2, 2), (3, 2), (1, 3), (2, 3), (3, 3)]"
   ]
  },
  {
   "cell_type": "markdown",
   "metadata": {},
   "source": [
    "#### 1) ['x', 'xx', 'xxx', 'xxxx', 'y', 'yy', 'yyy', 'yyyy', 'z', 'zz', 'zzz', 'zzzz']"
   ]
  },
  {
   "cell_type": "code",
   "execution_count": 3,
   "metadata": {},
   "outputs": [
    {
     "name": "stdout",
     "output_type": "stream",
     "text": [
      "Output for 1 list is:  ['x', 'xx', 'xxx', 'xxxx', 'y', 'yy', 'yyy', 'yyyy', 'z', 'zz', 'zzz', 'zzzz']\n"
     ]
    }
   ],
   "source": [
    "input_list = ['x','y','z']\n",
    "output_list = [i*j for i in input_list for j in range(1,5) ]\n",
    "print(\"Output for 1 list is: \",output_list)"
   ]
  },
  {
   "cell_type": "markdown",
   "metadata": {},
   "source": [
    "#### 2) ['x', 'y', 'z', 'xx', 'yy', 'zz', 'xxx', 'yyy', 'zzz', 'xxxx', 'yyyy', 'zzzz']"
   ]
  },
  {
   "cell_type": "code",
   "execution_count": 4,
   "metadata": {},
   "outputs": [
    {
     "name": "stdout",
     "output_type": "stream",
     "text": [
      "Output for 2 list is:  ['x', 'y', 'z', 'xx', 'yy', 'zz', 'xxx', 'yyy', 'zzz', 'xxxx', 'yyyy', 'zzzz']\n"
     ]
    }
   ],
   "source": [
    "input_list = ['x','y','z']\n",
    "output_list_2 = [i*j for j in range(1,5) for i in input_list ]\n",
    "print(\"Output for 2 list is: \",output_list_2)"
   ]
  },
  {
   "cell_type": "markdown",
   "metadata": {},
   "source": [
    "#### 3) [[2], [3], [4], [3], [4], [5], [4], [5], [6]]"
   ]
  },
  {
   "cell_type": "code",
   "execution_count": 5,
   "metadata": {},
   "outputs": [
    {
     "name": "stdout",
     "output_type": "stream",
     "text": [
      "Output for 3 list is:  [[2], [3], [4], [3], [4], [5], [4], [5], [6]]\n"
     ]
    }
   ],
   "source": [
    "output_list_3 = [[i+j] for i in range(2,5) for j in range(3) ]\n",
    "print(\"Output for 3 list is: \",output_list_3)"
   ]
  },
  {
   "cell_type": "markdown",
   "metadata": {},
   "source": [
    "#### 4) [[2, 3, 4, 5], [3, 4, 5, 6],[4, 5, 6, 7], [5, 6, 7, 8]]"
   ]
  },
  {
   "cell_type": "code",
   "execution_count": 6,
   "metadata": {},
   "outputs": [
    {
     "name": "stdout",
     "output_type": "stream",
     "text": [
      "Output for 4 list is:  [[2, 3, 4, 5], [3, 4, 5, 6], [4, 5, 6, 7], [5, 6, 7, 8]]\n"
     ]
    }
   ],
   "source": [
    "output_list_4 = [[i,i+1,i+2,i+3] for i in range(2,6)]\n",
    "print(\"Output for 4 list is: \",output_list_4)"
   ]
  },
  {
   "cell_type": "markdown",
   "metadata": {},
   "source": [
    "#### 5) [(1, 1), (2, 1), (3, 1), (1, 2), (2, 2), (3, 2), (1, 3), (2, 3), (3, 3)]"
   ]
  },
  {
   "cell_type": "code",
   "execution_count": 7,
   "metadata": {},
   "outputs": [
    {
     "name": "stdout",
     "output_type": "stream",
     "text": [
      "Output for 5 list is:  [(1, 1), (2, 1), (3, 1), (1, 2), (2, 2), (3, 2), (1, 3), (2, 3), (3, 3)]\n"
     ]
    }
   ],
   "source": [
    "output_list_5 = [(j,i) for i in range(1,4) for j in range(1,4)]\n",
    "print(\"Output for 5 list is: \",output_list_5)"
   ]
  }
 ],
 "metadata": {
  "kernelspec": {
   "display_name": "Python 3",
   "language": "python",
   "name": "python3"
  },
  "language_info": {
   "codemirror_mode": {
    "name": "ipython",
    "version": 3
   },
   "file_extension": ".py",
   "mimetype": "text/x-python",
   "name": "python",
   "nbconvert_exporter": "python",
   "pygments_lexer": "ipython3",
   "version": "3.7.7"
  }
 },
 "nbformat": 4,
 "nbformat_minor": 4
}
